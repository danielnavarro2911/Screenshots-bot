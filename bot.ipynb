{
 "cells": [
  {
   "cell_type": "code",
   "execution_count": 1,
   "id": "1fff73c9-56bf-4de1-ad7c-8a2ac887a5ed",
   "metadata": {},
   "outputs": [],
   "source": [
    "#pip install pyautogui"
   ]
  },
  {
   "cell_type": "code",
   "execution_count": 2,
   "id": "e06dac67-2498-406f-9bb0-ce3086e7f8bc",
   "metadata": {
    "tags": []
   },
   "outputs": [],
   "source": [
    "#pip install opencv-python"
   ]
  },
  {
   "cell_type": "code",
   "execution_count": 1,
   "id": "c1e86771-e8cd-4ce7-b8b1-4f954192336c",
   "metadata": {
    "tags": []
   },
   "outputs": [],
   "source": [
    "import pyautogui\n",
    "import time as t\n",
    "\n",
    "\n"
   ]
  },
  {
   "cell_type": "code",
   "execution_count": 3,
   "id": "c547a0c6-85be-44e7-bbd9-4ac4362bb663",
   "metadata": {
    "tags": []
   },
   "outputs": [],
   "source": [
    "def click(image_name,confidence=0.9):#image name: name of the image saved in \"sreenshots folder\"\n",
    "    ''' A function that locates on screen the screenshot saved in sScreenshots\" folder. When it locates the object, it clicks them\n",
    "    if it is not found, it just wait 0.5 seg and then it look for the object again\n",
    "    Play with confidance if the image is not found'''\n",
    "    while True:\n",
    "        imagen = pyautogui.locateOnScreen(f'screenshots/{image_name}.png',confidence = confidence) #llok for the image\n",
    "        \n",
    "        if imagen is not None: \n",
    "\n",
    "            #if find the image, it calculates the coordinates\n",
    "            x, y = pyautogui.center(imagen) \n",
    "            #click on that coordinates\n",
    "            pyautogui.click(x, y) #una vez calculadas las coordenadas, da click ahi\n",
    "            break\n",
    "        else:\n",
    "            t.sleep(0.5)"
   ]
  },
  {
   "cell_type": "code",
   "execution_count": null,
   "id": "b1e87b7e-bbd3-47e5-9167-e71b8a79678a",
   "metadata": {
    "tags": []
   },
   "outputs": [],
   "source": [
    "#Build the automation here\n",
    "click('your_image')"
   ]
  }
 ],
 "metadata": {
  "kernelspec": {
   "display_name": "Python 3 (ipykernel)",
   "language": "python",
   "name": "python3"
  },
  "language_info": {
   "codemirror_mode": {
    "name": "ipython",
    "version": 3
   },
   "file_extension": ".py",
   "mimetype": "text/x-python",
   "name": "python",
   "nbconvert_exporter": "python",
   "pygments_lexer": "ipython3",
   "version": "3.11.5"
  }
 },
 "nbformat": 4,
 "nbformat_minor": 5
}
